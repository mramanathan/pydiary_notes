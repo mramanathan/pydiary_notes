{
 "cells": [
  {
   "cell_type": "code",
   "execution_count": 16,
   "metadata": {
    "collapsed": false
   },
   "outputs": [
    {
     "name": "stdout",
     "output_type": "stream",
     "text": [
      "Books are for use\n",
      "B15e\n",
      "Every book its reader\n",
      "E19r\n",
      "Every reader his book\n",
      "E19k\n",
      "Save the time of the reader\n",
      "S25r\n",
      "Library is a growing organism\n",
      "L27m\n"
     ]
    }
   ],
   "source": [
    "\"\"\"\n",
    "An example to show numeronyms on the Five Laws of Library Science\n",
    "\"\"\"\n",
    "\n",
    "global fiveLaws\n",
    "\n",
    "fiveLaws = [ \"Books are for use\", \"Every book its reader\", \n",
    "            \"Every reader his book\", \"Save the time of the reader\",\n",
    "            \"Library is a growing organism\"]\n",
    "\n",
    "def i18nify(law):\n",
    "    yield law[0] + str((len(law)-2)) + law[-1]\n",
    "    \n",
    "def main():\n",
    "    for law in fiveLaws:\n",
    "        print law\n",
    "        print(i18nify(law).next())\n",
    "    \n",
    "if __name__ == '__main__':\n",
    "    main()"
   ]
  },
  {
   "cell_type": "code",
   "execution_count": null,
   "metadata": {
    "collapsed": true
   },
   "outputs": [],
   "source": []
  }
 ],
 "metadata": {
  "kernelspec": {
   "display_name": "Python 2",
   "language": "python",
   "name": "python2"
  },
  "language_info": {
   "codemirror_mode": {
    "name": "ipython",
    "version": 2
   },
   "file_extension": ".py",
   "mimetype": "text/x-python",
   "name": "python",
   "nbconvert_exporter": "python",
   "pygments_lexer": "ipython2",
   "version": "2.7.11"
  }
 },
 "nbformat": 4,
 "nbformat_minor": 0
}
