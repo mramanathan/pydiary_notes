{
 "cells": [
  {
   "cell_type": "markdown",
   "metadata": {},
   "source": [
    "##### Howto_Generators: 28/May/2016"
   ]
  },
  {
   "cell_type": "code",
   "execution_count": 2,
   "metadata": {
    "collapsed": false
   },
   "outputs": [
    {
     "name": "stdout",
     "output_type": "stream",
     "text": [
      "0\n",
      "1\n",
      "1\n",
      "2\n",
      "3\n",
      "5\n",
      "8\n",
      "13\n",
      "21\n"
     ]
    }
   ],
   "source": [
    "def fibonacci(number):\n",
    "    \"\"\"\n",
    "    An example for generator function using yield.\n",
    "    \"\"\"\n",
    "    result = 0\n",
    "    base = 1\n",
    "    while (result <= number):\n",
    "        \"\"\" yield : sort of jump to parent calling function todo some processing \n",
    "        there and return back to the called function and resume the code execution.\n",
    "        \"\"\"\n",
    "        yield result\n",
    "        \n",
    "        n = result + base\n",
    "        result = base\n",
    "        base = n\n",
    "        \n",
    "def main():\n",
    "    for x in fibonacci(27):\n",
    "        print x\n",
    "    \n",
    "if __name__ == '__main__':\n",
    "    main()"
   ]
  },
  {
   "cell_type": "code",
   "execution_count": null,
   "metadata": {
    "collapsed": true
   },
   "outputs": [],
   "source": []
  }
 ],
 "metadata": {
  "kernelspec": {
   "display_name": "Python 2",
   "language": "python",
   "name": "python2"
  },
  "language_info": {
   "codemirror_mode": {
    "name": "ipython",
    "version": 2
   },
   "file_extension": ".py",
   "mimetype": "text/x-python",
   "name": "python",
   "nbconvert_exporter": "python",
   "pygments_lexer": "ipython2",
   "version": "2.7.11"
  }
 },
 "nbformat": 4,
 "nbformat_minor": 0
}
