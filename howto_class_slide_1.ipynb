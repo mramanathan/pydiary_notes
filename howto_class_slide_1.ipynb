{
 "cells": [
  {
   "cell_type": "code",
   "execution_count": 11,
   "metadata": {
    "collapsed": false
   },
   "outputs": [
    {
     "name": "stdout",
     "output_type": "stream",
     "text": [
      "Customized time : \n",
      "1:7:45\n",
      "Customized time : \n",
      "1:7:45\n"
     ]
    }
   ],
   "source": [
    "class Time(object):\n",
    "    def printTime(mytime):\n",
    "        print \"Customized time : \"\n",
    "        print str(mytime.hours) + \":\" + str(mytime.minutes) + \":\" + str(mytime.seconds)\n",
    "    \n",
    "\n",
    "def main():\n",
    "    mytime = Time()\n",
    "    mytime.hours   = 1\n",
    "    mytime.minutes = 7\n",
    "    mytime.seconds = 45\n",
    "    \n",
    "    printTime(mytime)\n",
    "    \n",
    "    mytime.printTime()\n",
    "    \n",
    "if __name__ == '__main__':\n",
    "    main()"
   ]
  },
  {
   "cell_type": "code",
   "execution_count": null,
   "metadata": {
    "collapsed": true
   },
   "outputs": [],
   "source": []
  }
 ],
 "metadata": {
  "kernelspec": {
   "display_name": "Python 2",
   "language": "python",
   "name": "python2"
  },
  "language_info": {
   "codemirror_mode": {
    "name": "ipython",
    "version": 2
   },
   "file_extension": ".py",
   "mimetype": "text/x-python",
   "name": "python",
   "nbconvert_exporter": "python",
   "pygments_lexer": "ipython2",
   "version": "2.7.11"
  }
 },
 "nbformat": 4,
 "nbformat_minor": 0
}
