{
 "cells": [
  {
   "cell_type": "markdown",
   "metadata": {},
   "source": [
    "### Notes for the regex talk @ PyCon 2016 by Trey Hunner\n",
    "\n",
    "... Below code tested using Python v2.7"
   ]
  },
  {
   "cell_type": "code",
   "execution_count": 2,
   "metadata": {
    "collapsed": false
   },
   "outputs": [
    {
     "name": "stdout",
     "output_type": "stream",
     "text": [
      "True\n"
     ]
    }
   ],
   "source": [
    "# -*- coding:utf-8 -*-\n",
    "\n",
    "#!/usr/bin/env python\n",
    "\n",
    "import re\n",
    "\n",
    "greeting = \"Text whispering...\"\n",
    "\n",
    "print \"x\" in greeting"
   ]
  },
  {
   "cell_type": "code",
   "execution_count": 4,
   "metadata": {
    "collapsed": false
   },
   "outputs": [
    {
     "name": "stdout",
     "output_type": "stream",
     "text": [
      "<_sre.SRE_Match object at 0x02F52170>\n",
      "per\n"
     ]
    }
   ],
   "source": [
    "print(re.search(r\"per\", greeting))\n",
    "\n",
    "rematch = re.search(r\"per\", greeting)\n",
    "\n",
    "print rematch.group()"
   ]
  },
  {
   "cell_type": "code",
   "execution_count": 5,
   "metadata": {
    "collapsed": false
   },
   "outputs": [
    {
     "name": "stdout",
     "output_type": "stream",
     "text": [
      "True\n"
     ]
    }
   ],
   "source": [
    "print(any(c in greeting for c in 'aeiou'))"
   ]
  },
  {
   "cell_type": "code",
   "execution_count": 9,
   "metadata": {
    "collapsed": false
   },
   "outputs": [
    {
     "name": "stdout",
     "output_type": "stream",
     "text": [
      "Text whispering...\n",
      "e\n"
     ]
    }
   ],
   "source": [
    "print greeting\n",
    "char_class = re.search(r'[aeiou]', \"greeting\")\n",
    "print(char_class.group())"
   ]
  },
  {
   "cell_type": "code",
   "execution_count": 16,
   "metadata": {
    "collapsed": false
   },
   "outputs": [
    {
     "name": "stdout",
     "output_type": "stream",
     "text": [
      "Rising continent : asia\n",
      "asia\n"
     ]
    }
   ],
   "source": [
    "continent = \"asia\"\n",
    "print(\"Rising continent : %s\" %(continent))\n",
    "\n",
    "# --> match any string starting with a, containing any number of \n",
    "# character class in the range a-z and ending with a\n",
    "m = re.search(r\"^a[a-z]\\w+a$\", continent) \n",
    "print(m.group())"
   ]
  },
  {
   "cell_type": "code",
   "execution_count": 23,
   "metadata": {
    "collapsed": false
   },
   "outputs": [
    {
     "name": "stdout",
     "output_type": "stream",
     "text": [
      "a\n"
     ]
    }
   ],
   "source": [
    "samp = \"a\"\n",
    "\n",
    "# --> This will match strings, such as, a and ONLY a\n",
    "m = re.search(r\"^a$\", samp)\n",
    "print(m.group())"
   ]
  },
  {
   "cell_type": "code",
   "execution_count": 32,
   "metadata": {
    "collapsed": false
   },
   "outputs": [
    {
     "name": "stdout",
     "output_type": "stream",
     "text": [
      "aba\n",
      "aba\n",
      "aby\n",
      "aby\n"
     ]
    }
   ],
   "source": [
    "## . -> dot or period represents a single character\n",
    "\n",
    "rhyme = \"baba\"\n",
    "stage = \"baby\"\n",
    "\n",
    "m_rhyme = re.search(r'a.{2}$', rhyme)\n",
    "print(m_rhyme.group())\n",
    "\n",
    "mstar = re.search(r'a.*a$', rhyme)\n",
    "print(mstar.group())\n",
    "\n",
    "m_stage = re.search(r'a.\\w+$', stage)\n",
    "print(m_stage.group())\n",
    "\n",
    "hum = re.search(r'a.*$', stage)\n",
    "print(hum.group())"
   ]
  },
  {
   "cell_type": "markdown",
   "metadata": {},
   "source": [
    "##### (i) m_rhyme and mstar achieve the same, end result is aba\n",
    "=====================\n",
    "##### (ii) m_stage and hum are repeat of the above regex"
   ]
  },
  {
   "cell_type": "code",
   "execution_count": 38,
   "metadata": {
    "collapsed": false
   },
   "outputs": [
    {
     "name": "stdout",
     "output_type": "stream",
     "text": [
      "vasan\n",
      "vathsan\n"
     ]
    }
   ],
   "source": [
    "# How to use the ., *, +, ? quantifiers, that matches a single character\n",
    "# either zero or more (OR) one or more time (OR) zero or one time.\n",
    "\n",
    "doctor = \"srinivasan\"\n",
    "hrmgr = \"srivathsan\"\n",
    "\n",
    "drx = re.search(r'va?sa+n', doctor)\n",
    "print(drx.group())\n",
    "\n",
    "hrx = re.search(r'va.*sa?n', hrmgr)\n",
    "print(hrx.group())"
   ]
  },
  {
   "cell_type": "code",
   "execution_count": 53,
   "metadata": {
    "collapsed": false
   },
   "outputs": [
    {
     "name": "stdout",
     "output_type": "stream",
     "text": [
      "Letters_to_my_daughter\n",
      "Letters_to_my_daughter\n"
     ]
    }
   ],
   "source": [
    "# word match and word character class\n",
    "\n",
    "sweetie = \"Letters_to_my_daughter\"\n",
    "\n",
    "s = re.search(r'^[a-zA-Z0-9_].*$', sweetie)\n",
    "print(s.group())\n",
    "\n",
    "sidiom = re.search(r'\\w*', sweetie)\n",
    "print(sidiom.group())"
   ]
  },
  {
   "cell_type": "code",
   "execution_count": 62,
   "metadata": {
    "collapsed": false
   },
   "outputs": [
    {
     "name": "stdout",
     "output_type": "stream",
     "text": [
      "walk\n",
      "walking\n"
     ]
    }
   ],
   "source": [
    "# substring using start and end\n",
    "\n",
    "line = \"You never walk alone\"\n",
    "\n",
    "mline = re.search(r'\\bw[a-z]+k\\b', line)\n",
    "print(line[mline.start():mline.end()])\n",
    "\n",
    "newline = \"keep walking\"\n",
    "\n",
    "myline = re.search(r'\\bw[a-z]*$', newline)\n",
    "print(newline[myline.start():myline.end()])"
   ]
  },
  {
   "cell_type": "code",
   "execution_count": 26,
   "metadata": {
    "collapsed": false
   },
   "outputs": [
    {
     "name": "stdout",
     "output_type": "stream",
     "text": [
      "hello-bebe\n",
      "\b\n"
     ]
    }
   ],
   "source": [
    "## Resumed on Wed/22/Jun\n",
    "\n",
    "\"\"\" If the pattern is not preceded by r, then the \n",
    "regex engine does not try to match for the pattern.\n",
    "\n",
    "In the second print statement, \\b produces blank\n",
    "output but it is essentially backspace character.\n",
    "\"\"\"\n",
    "\n",
    "print(\"hello-bebe\")\n",
    "print '\\b'"
   ]
  },
  {
   "cell_type": "code",
   "execution_count": 35,
   "metadata": {
    "collapsed": false
   },
   "outputs": [
    {
     "name": "stdout",
     "output_type": "stream",
     "text": [
      "franken\n",
      "shau\n",
      "172936258888\n",
      "hel\n"
     ]
    }
   ],
   "source": [
    "# example of {n} and {n, o}\n",
    "\n",
    "import re\n",
    "\n",
    "fict = \"frankenstein the devil\"\n",
    "comic = \"shaun\"\n",
    "event = \"172936258888\"\n",
    "phone = \"hello\"\n",
    "\n",
    "mfict = re.search(r'\\w{5,7}', fict)\n",
    "print(mfict.group())\n",
    "\n",
    "mcomic = re.search(r'\\w{4}', comic)\n",
    "print(comic[mcomic.start():mcomic.end()])\n",
    "\n",
    "mevent = re.search(r'\\d{6,}', event)\n",
    "print(mevent.group())\n",
    "\n",
    "mphone = re.search(r'\\w{,3}', phone)\n",
    "print(mphone.group())"
   ]
  },
  {
   "cell_type": "code",
   "execution_count": null,
   "metadata": {
    "collapsed": true
   },
   "outputs": [],
   "source": []
  }
 ],
 "metadata": {
  "kernelspec": {
   "display_name": "Python 2",
   "language": "python",
   "name": "python2"
  },
  "language_info": {
   "codemirror_mode": {
    "name": "ipython",
    "version": 2
   },
   "file_extension": ".py",
   "mimetype": "text/x-python",
   "name": "python",
   "nbconvert_exporter": "python",
   "pygments_lexer": "ipython2",
   "version": "2.7.10"
  }
 },
 "nbformat": 4,
 "nbformat_minor": 0
}
