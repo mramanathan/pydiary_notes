{
 "cells": [
  {
   "cell_type": "markdown",
   "metadata": {},
   "source": [
    "#### 26/May/2016: \n",
    "\n",
    "** Hey, what's this 'functools' thingy, huh !?!"
   ]
  },
  {
   "cell_type": "code",
   "execution_count": 9,
   "metadata": {
    "collapsed": false
   },
   "outputs": [
    {
     "data": {
      "text/plain": [
       "'R2-D2 Dr.Susan Calvin, Welcome to the world of robots.'"
      ]
     },
     "execution_count": 9,
     "metadata": {},
     "output_type": "execute_result"
    }
   ],
   "source": [
    "import functools\n",
    "\n",
    "def hello_doctor(greet_msg, greet_whom):\n",
    "    return \"%s %s, Welcome to the world of robots.\" %(greet_msg, greet_whom)\n",
    "\n",
    "## this line works\n",
    "# hello_doctor = functools.partial(hello_doctor, \"R2-D2\")\n",
    "# hello_doctor(\"Dr.Susan Calvin\")"
   ]
  },
  {
   "cell_type": "markdown",
   "metadata": {},
   "source": [
    "##### What's going on in cells 11 & 14 ?"
   ]
  },
  {
   "cell_type": "code",
   "execution_count": 11,
   "metadata": {
    "collapsed": false
   },
   "outputs": [
    {
     "data": {
      "text/plain": [
       "'R2-D2 Dr.Susan Calvin, Welcome to the world of robots.'"
      ]
     },
     "execution_count": 11,
     "metadata": {},
     "output_type": "execute_result"
    }
   ],
   "source": [
    "greet = functools.partial(hello_doctor)\n",
    "greet(\"Dr.Susan Calvin\")"
   ]
  },
  {
   "cell_type": "code",
   "execution_count": 14,
   "metadata": {
    "collapsed": false
   },
   "outputs": [
    {
     "data": {
      "text/plain": [
       "'R2-D2 Dr.Susan Calvin, Welcome to the world of robots.'"
      ]
     },
     "execution_count": 14,
     "metadata": {},
     "output_type": "execute_result"
    }
   ],
   "source": [
    "welcome = functools.partial(hello_doctor)\n",
    "welcome(\"Dr.Susan Calvin\")"
   ]
  },
  {
   "cell_type": "code",
   "execution_count": 4,
   "metadata": {
    "collapsed": false
   },
   "outputs": [
    {
     "name": "stdout",
     "output_type": "stream",
     "text": [
      "625\n",
      "3375\n"
     ]
    }
   ],
   "source": [
    "def numpower(base, exponent):\n",
    "    return base ** exponent\n",
    "\n",
    "def square(base):\n",
    "    return numpower(base, 2)\n",
    "\n",
    "def cube(base):\n",
    "    return numpower(base, 3)\n",
    "    \n",
    "print square(25)\n",
    "print cube(15)"
   ]
  },
  {
   "cell_type": "markdown",
   "metadata": {},
   "source": [
    "#### How can the above code be handled using functools.partial() ?"
   ]
  }
 ],
 "metadata": {
  "kernelspec": {
   "display_name": "Python 2",
   "language": "python",
   "name": "python2"
  },
  "language_info": {
   "codemirror_mode": {
    "name": "ipython",
    "version": 2
   },
   "file_extension": ".py",
   "mimetype": "text/x-python",
   "name": "python",
   "nbconvert_exporter": "python",
   "pygments_lexer": "ipython2",
   "version": "2.7.10"
  }
 },
 "nbformat": 4,
 "nbformat_minor": 0
}
