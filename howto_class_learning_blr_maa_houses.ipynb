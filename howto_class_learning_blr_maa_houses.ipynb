{
 "cells": [
  {
   "cell_type": "code",
   "execution_count": 21,
   "metadata": {
    "collapsed": false
   },
   "outputs": [
    {
     "name": "stdout",
     "output_type": "stream",
     "text": [
      "In BLR, the IT capital of India, while staying at 1146 which was a 2 BHK house, you paid 168000 as rental for 2 years\n",
      "In BLR, the IT capital of India, while staying at 1313 which was a 2 BHK house, you paid 120000 as rental for 1 years\n",
      "In BLR, the IT capital of India, while staying at 1033 which was a 1 BHK house, you paid 60000 as rental for 1 years\n",
      "In BLR, the IT capital of India, while staying at 936 which was a 2 BHK house, you paid 480000 as rental for 2 years\n",
      "In BLR, the IT capital of India, while staying at 937 which was a 2 BHK house, you paid 360000 as rental for 1 years\n",
      "\n",
      "BLR, the IT capital of India\n"
     ]
    }
   ],
   "source": [
    "class House(object):\n",
    "    \"\"\"\n",
    "    An example for the migration of a family, living in the 21st century,\n",
    "    relocating between Bangalore and Chennai.\n",
    "    \"\"\"\n",
    "    \n",
    "    def __init__(self, bhk, dwellType, stayPeriod, rentAmt, doorNum, city):\n",
    "        self._slogan = \"IT capital\"\n",
    "        self._country = \"India\"\n",
    "        self.bhk = bhk\n",
    "        self.dwellType = dwellType\n",
    "        self.stayPeriod = stayPeriod\n",
    "        self.rentAmt = rentAmt\n",
    "        self.doorNum = doorNum\n",
    "        self.city = city\n",
    "        \n",
    "    def calcRent(self):\n",
    "        \n",
    "        if self.stayPeriod >= 1:\n",
    "            totalRent = (self.stayPeriod * 12) * self.rentAmt\n",
    "        else:\n",
    "            totalRent = self.stayPeriod * self.rentAmt\n",
    "        \n",
    "        smry = \"In %s, the %s of %s, while staying at %d which was a %d BHK house, you paid %-5d as rental for %d years\" %(self.city, self._slogan, self._country, self.doorNum, self.bhk, totalRent, self.stayPeriod)\n",
    "        return smry\n",
    "        \n",
    "    # def ownself(self):\n",
    "        \n",
    "        \n",
    "#amb = House(2, own, 5, 0)\n",
    "#mgpr = House(2, own, 4, 0)\n",
    "\n",
    "blr_1146 = House(2, \"rent\", 2, 7000, 1146, \"BLR\")\n",
    "print blr_1146.calcRent()\n",
    "\n",
    "blr_1313 = House(2, \"rent\", 1, 10000, 1313, \"BLR\")\n",
    "print blr_1313.calcRent()\n",
    "\n",
    "blr_1033 = House(1, \"rent\", 1, 5000, 1033, \"BLR\")\n",
    "print blr_1033.calcRent()\n",
    "\n",
    "blr_936 = House(2, \"rent\", 2.5, 16000, 936, \"BLR\")\n",
    "print blr_936.calcRent()\n",
    "\n",
    "blr_937 = House(2, \"rent\", 1.5, 20000, 937, \"BLR\")\n",
    "print blr_937.calcRent()\n",
    "\n",
    "print \"\\n\" + blr_937.city + \",\",\n",
    "print \"the \" + blr_937._slogan + \" of\",\n",
    "print blr_937._country\n",
    "\n",
    "\n",
    "blr_1143 = House(3, \"own\", 0.7, 0, 1143, \"BLR\")"
   ]
  },
  {
   "cell_type": "code",
   "execution_count": null,
   "metadata": {
    "collapsed": true
   },
   "outputs": [],
   "source": []
  }
 ],
 "metadata": {
  "kernelspec": {
   "display_name": "Python 2",
   "language": "python",
   "name": "python2"
  },
  "language_info": {
   "codemirror_mode": {
    "name": "ipython",
    "version": 2
   },
   "file_extension": ".py",
   "mimetype": "text/x-python",
   "name": "python",
   "nbconvert_exporter": "python",
   "pygments_lexer": "ipython2",
   "version": "2.7.10"
  }
 },
 "nbformat": 4,
 "nbformat_minor": 0
}
