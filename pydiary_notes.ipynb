{
 "cells": [
  {
   "cell_type": "code",
   "execution_count": 13,
   "metadata": {
    "collapsed": false
   },
   "outputs": [
    {
     "name": "stdout",
     "output_type": "stream",
     "text": [
      "^^^^^+++++\n",
      "sys.version_info(major=2, minor=7, micro=3, releaselevel='final', serial=0)\n",
      "+++++^^^^^\n",
      "\n",
      "== Python version ==> 2.7.3\n",
      "\n",
      "== Running Python 2.7\n",
      "\n",
      "== Python built for linux2 platform\n",
      "\n",
      "== Installation details : \n",
      "/local/rmuthaia/virtpython/bin/python\n",
      "/local/rmuthaia/virtpython\n"
     ]
    }
   ],
   "source": [
    "import sys\n",
    "import platform\n",
    "\n",
    "sysop = sys.version_info\n",
    "print \"^\" * 5 + \"+\" * 5\n",
    "print(sysop)\n",
    "print \"+\" * 5 + \"^\" * 5\n",
    "\n",
    "print(\"\\n== Python version ==> {0}.{1}.{2}\".format(sysop[:3][0],\n",
    "                                            sysop[:3][1],sysop[:3][2]))\n",
    "\n",
    "print(\"\\n== Running Python {0}.{1}\".format(  \n",
    "    sys.version_info[:2][0],sys.version_info[:2][1]))\n",
    "\n",
    "print \"\\n== Python built for \" + sys.platform + \" platform\"\n",
    "\n",
    "print \"\\n== Installation details : \"\n",
    "print sys.executable\n",
    "print sys.prefix"
   ]
  },
  {
   "cell_type": "code",
   "execution_count": null,
   "metadata": {
    "collapsed": true
   },
   "outputs": [],
   "source": []
  }
 ],
 "metadata": {
  "kernelspec": {
   "display_name": "Python 2",
   "language": "python",
   "name": "python2"
  },
  "language_info": {
   "codemirror_mode": {
    "name": "ipython",
    "version": 2
   },
   "file_extension": ".py",
   "mimetype": "text/x-python",
   "name": "python",
   "nbconvert_exporter": "python",
   "pygments_lexer": "ipython2",
   "version": "2.7.3"
  }
 },
 "nbformat": 4,
 "nbformat_minor": 0
}
