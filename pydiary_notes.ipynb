{
 "cells": [
  {
   "cell_type": "code",
   "execution_count": 1,
   "metadata": {
    "collapsed": false
   },
   "outputs": [
    {
     "name": "stdout",
     "output_type": "stream",
     "text": [
      "^^^^^+++++\n",
      "sys.version_info(major=2, minor=7, micro=11, releaselevel='final', serial=0)\n",
      "+++++^^^^^\n",
      "\n",
      "== Python version ==> 2.7.11\n",
      "\n",
      "== Running Python 2.7\n",
      "\n",
      "== Python built for linux2 platform\n",
      "\n",
      "== Installation details : \n",
      "/home/ec2-user/anaconda2/bin/python\n",
      "/home/ec2-user/anaconda2\n"
     ]
    }
   ],
   "source": [
    "import sys\n",
    "import platform\n",
    "\n",
    "sysop = sys.version_info\n",
    "print \"^\" * 5 + \"+\" * 5\n",
    "print(sysop)\n",
    "print \"+\" * 5 + \"^\" * 5\n",
    "\n",
    "print(\"\\n== Python version ==> {0}.{1}.{2}\".format(sysop[:3][0],\n",
    "                                            sysop[:3][1],sysop[:3][2]))\n",
    "\n",
    "print(\"\\n== Running Python {0}.{1}\".format(  \n",
    "    sys.version_info[:2][0],sys.version_info[:2][1]))\n",
    "\n",
    "print \"\\n== Python built for \" + sys.platform + \" platform\"\n",
    "\n",
    "print \"\\n== Installation details : \"\n",
    "print sys.executable\n",
    "print sys.prefix"
   ]
  },
  {
   "cell_type": "code",
   "execution_count": 5,
   "metadata": {
    "collapsed": false
   },
   "outputs": [
    {
     "name": "stdout",
     "output_type": "stream",
     "text": [
      "====operations using a copy of the list====\n",
      "Length of the list : 13\n",
      "Counter 0\n",
      "Popped element : r\n",
      "Counter 1\n",
      "Popped element : i\n",
      "Counter 2\n",
      "Popped element : s\n",
      "Counter 3\n",
      "Popped element : e\n",
      "Counter 4\n",
      "Popped element : t\n",
      "Counter 5\n",
      "Popped element : o\n",
      "Counter 6\n",
      "Popped element : v\n",
      "Counter 7\n",
      "Popped element : o\n",
      "Counter 8\n",
      "Popped element : t\n",
      "Counter 9\n",
      "Popped element : e\n",
      "Counter 10\n",
      "Popped element : s\n",
      "Counter 11\n",
      "Popped element : i\n",
      "Counter 12\n",
      "Popped element : r\n",
      "Elements in the original list :  []\n",
      "Find out why the original list is empty\n",
      "====direct (in-place modification) operations on the list====\n",
      "Length of the list : 13\n",
      "Counter 0\n",
      "Popped element :  r\n",
      "Counter 1\n",
      "Popped element :  i\n",
      "Counter 2\n",
      "Popped element :  s\n",
      "Counter 3\n",
      "Popped element :  e\n",
      "Counter 4\n",
      "Popped element :  t\n",
      "Counter 5\n",
      "Popped element :  o\n",
      "Counter 6\n",
      "Popped element :  v\n",
      "Elements in the original list :  ['r', 'i', 's', 'e', 't', 'o']\n"
     ]
    }
   ],
   "source": [
    "palPhrase = ['r', 'i', 's', 'e', 't', 'o', 'v', 'o', 't', 'e', 's', 'i', 'r']\n",
    "loopCnt = 0\n",
    "print \"==\" * 2 + \"operations using a copy of the list\" + \"==\" * 2\n",
    "print \"Length of the list : %d\" %(len(palPhrase))\n",
    "for cc in palPhrase[:]:\n",
    "    print \"Counter {0}\".format(loopCnt)\n",
    "    dd = palPhrase.pop()\n",
    "    print \"Popped element : %s\" %(dd)\n",
    "    loopCnt = loopCnt + 1\n",
    "print \"Elements in the original list : \", palPhrase\n",
    "print \"Find out why the original list is empty\"\n",
    "palPhrase = ['r', 'i', 's', 'e', 't', 'o', 'v', 'o', 't', 'e', 's', 'i', 'r']\n",
    "newLoopCnt = 0\n",
    "print \"==\" * 2 + \"direct (in-place modification) operations on the list\" + \"==\" * 2\n",
    "print \"Length of the list : %d\" %(len(palPhrase))\n",
    "for ee in palPhrase:\n",
    "    print \"Counter {0}\".format(newLoopCnt)\n",
    "    ff = palPhrase.pop()\n",
    "    print \"Popped element : \", ff\n",
    "    newLoopCnt = newLoopCnt + 1\n",
    "print \"Elements in the original list : \", palPhrase"
   ]
  },
  {
   "cell_type": "code",
   "execution_count": null,
   "metadata": {
    "collapsed": true
   },
   "outputs": [],
   "source": []
  }
 ],
 "metadata": {
  "kernelspec": {
   "display_name": "Python 2",
   "language": "python",
   "name": "python2"
  },
  "language_info": {
   "codemirror_mode": {
    "name": "ipython",
    "version": 2
   },
   "file_extension": ".py",
   "mimetype": "text/x-python",
   "name": "python",
   "nbconvert_exporter": "python",
   "pygments_lexer": "ipython2",
   "version": "2.7.11"
  }
 },
 "nbformat": 4,
 "nbformat_minor": 0
}
