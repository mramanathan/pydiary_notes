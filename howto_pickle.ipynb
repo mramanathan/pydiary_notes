{
 "cells": [
  {
   "cell_type": "markdown",
   "metadata": {},
   "source": [
    "#### Howto with examples on 'pickle' module ==> 28/May/2016"
   ]
  },
  {
   "cell_type": "code",
   "execution_count": 4,
   "metadata": {
    "collapsed": false
   },
   "outputs": [],
   "source": [
    "\"\"\"\n",
    "An example to store the output without \"pickle\"\n",
    "\"\"\"\n",
    "\n",
    "testfile = 'nopickle.txt'\n",
    "\n",
    "var1 = 1143\n",
    "var2 = [\"AECS\", \"LAYOUT\", \"KUNDALAHALLI\"]\n",
    "var3 = 58.30\n",
    "var4 = (\"Bangalore\", 560037)\n",
    "\n",
    "def ezhudhu():\n",
    "    with open(testfile, 'w+') as f:\n",
    "        f.write(str(var1))\n",
    "        f.write(str(var2))\n",
    "        f.write(str(var3))\n",
    "        f.write(str(var4))\n",
    "    \n",
    "    f.close()\n",
    "    \n",
    "    return None\n",
    "    \n",
    "def main():\n",
    "    ezhudhu()\n",
    "    \n",
    "if __name__ == '__main__':\n",
    "    main()"
   ]
  },
  {
   "cell_type": "markdown",
   "metadata": {},
   "source": [
    "#### *** This is the content of nopickle.txt ***\n",
    "1143['AECS', 'LAYOUT', 'KUNDALAHALLI']58.3('Bangalore', 560037)"
   ]
  },
  {
   "cell_type": "code",
   "execution_count": 6,
   "metadata": {
    "collapsed": false
   },
   "outputs": [
    {
     "name": "stdout",
     "output_type": "stream",
     "text": [
      "1143['AECS', 'LAYOUT', 'KUNDALAHALLI']58.3('Bangalore', 560037)\n",
      "<type 'str'>\n"
     ]
    }
   ],
   "source": [
    "\"\"\"\n",
    "Let us now read the contents of 'nopickle.txt', also check it's type\n",
    "Does it retain the original type of the variables ?\n",
    "\"\"\"\n",
    "with open(testfile, 'r') as f:\n",
    "    print f.readline()\n",
    "    print(type(f.readline()))    "
   ]
  },
  {
   "cell_type": "code",
   "execution_count": 7,
   "metadata": {
    "collapsed": true
   },
   "outputs": [],
   "source": [
    "\"\"\"\n",
    "An example of store the outputin a file using 'pickle'\n",
    "\"\"\"\n",
    "import pickle\n",
    "\n",
    "testfile = 'pickle.txt'\n",
    "\n",
    "var1 = 1143\n",
    "var2 = [\"AECS\", \"LAYOUT\", \"KUNDALAHALLI\"]\n",
    "var3 = 58.30\n",
    "var4 = (\"Bangalore\", 560037)\n",
    "\n",
    "def baree():\n",
    "    with open(testfile, 'w+') as f:\n",
    "        pickle.dump(var1, f)\n",
    "        pickle.dump(var2, f)\n",
    "        pickle.dump(var3, f)\n",
    "        pickle.dump(var4, f)\n",
    "            \n",
    "    f.close()\n",
    "    \n",
    "    return None\n",
    "    \n",
    "def main():\n",
    "    baree()\n",
    "    \n",
    "if __name__ == '__main__':\n",
    "    main()"
   ]
  },
  {
   "cell_type": "markdown",
   "metadata": {},
   "source": [
    "##### **  This is the content of pickle.txt\n",
    "##### See the section 'DATA' in the help(pickle) to understand \n",
    "#### what's the various markers mean i.e. I, aS, p1, a.F\n",
    "\n",
    "I1143\n",
    "\n",
    ".(lp0\n",
    "\n",
    "S'AECS'\n",
    "\n",
    "p1\n",
    "\n",
    "aS'LAYOUT'\n",
    "\n",
    "p2\n",
    "\n",
    "aS'KUNDALAHALLI'\n",
    "\n",
    "p3\n",
    "\n",
    "a.F58.3\n",
    "\n",
    ".(S'Bangalore'\n",
    "\n",
    "p0\n",
    "\n",
    "I560037\n",
    "\n",
    "tp1"
   ]
  },
  {
   "cell_type": "code",
   "execution_count": 32,
   "metadata": {
    "collapsed": false
   },
   "outputs": [
    {
     "name": "stdout",
     "output_type": "stream",
     "text": [
      "what's this file object : \n",
      "<open file 'pickle.txt', mode 'rb' at 0x7fe56dd3cdb0>\n",
      "it's type : \n",
      "<type 'file'>\n",
      "====================\n",
      "1143 <type 'int'>\n",
      "['AECS', 'LAYOUT', 'KUNDALAHALLI'] <type 'list'>\n",
      "58.3 <type 'float'>\n",
      "('Bangalore', 560037) <type 'tuple'>\n"
     ]
    },
    {
     "ename": "EOFError",
     "evalue": "",
     "output_type": "error",
     "traceback": [
      "\u001b[1;31m---------------------------------------------------------------------------\u001b[0m",
      "\u001b[1;31mEOFError\u001b[0m                                  Traceback (most recent call last)",
      "\u001b[1;32m<ipython-input-32-03b97f456939>\u001b[0m in \u001b[0;36m<module>\u001b[1;34m()\u001b[0m\n\u001b[0;32m     15\u001b[0m \u001b[1;33m\u001b[0m\u001b[0m\n\u001b[0;32m     16\u001b[0m \u001b[1;32mwith\u001b[0m \u001b[0mopen\u001b[0m\u001b[1;33m(\u001b[0m\u001b[1;34m'pickle.txt'\u001b[0m\u001b[1;33m,\u001b[0m \u001b[1;34m'rb'\u001b[0m\u001b[1;33m)\u001b[0m \u001b[1;32mas\u001b[0m \u001b[0mf\u001b[0m\u001b[1;33m:\u001b[0m\u001b[1;33m\u001b[0m\u001b[0m\n\u001b[1;32m---> 17\u001b[1;33m     \u001b[1;32mfor\u001b[0m \u001b[0minfo\u001b[0m \u001b[1;32min\u001b[0m \u001b[0mpickout\u001b[0m\u001b[1;33m(\u001b[0m\u001b[0mf\u001b[0m\u001b[1;33m)\u001b[0m\u001b[1;33m:\u001b[0m\u001b[1;33m\u001b[0m\u001b[0m\n\u001b[0m\u001b[0;32m     18\u001b[0m         \u001b[1;32mprint\u001b[0m \u001b[0minfo\u001b[0m\u001b[1;33m,\u001b[0m\u001b[1;33m\u001b[0m\u001b[0m\n\u001b[0;32m     19\u001b[0m         \u001b[1;32mprint\u001b[0m \u001b[0mtype\u001b[0m\u001b[1;33m(\u001b[0m\u001b[0minfo\u001b[0m\u001b[1;33m)\u001b[0m\u001b[1;33m\u001b[0m\u001b[0m\n",
      "\u001b[1;32m<ipython-input-32-03b97f456939>\u001b[0m in \u001b[0;36mpickout\u001b[1;34m(fileobj)\u001b[0m\n\u001b[0;32m     11\u001b[0m     \u001b[1;32mprint\u001b[0m \u001b[1;34m\"==\"\u001b[0m \u001b[1;33m*\u001b[0m \u001b[1;36m5\u001b[0m \u001b[1;33m+\u001b[0m \u001b[1;34m\"==\"\u001b[0m \u001b[1;33m*\u001b[0m \u001b[1;36m5\u001b[0m\u001b[1;33m\u001b[0m\u001b[0m\n\u001b[0;32m     12\u001b[0m     \u001b[1;32mwhile\u001b[0m \u001b[0mTrue\u001b[0m\u001b[1;33m:\u001b[0m\u001b[1;33m\u001b[0m\u001b[0m\n\u001b[1;32m---> 13\u001b[1;33m         \u001b[0mpickline\u001b[0m \u001b[1;33m=\u001b[0m \u001b[0mpickle\u001b[0m\u001b[1;33m.\u001b[0m\u001b[0mload\u001b[0m\u001b[1;33m(\u001b[0m\u001b[0mfileobj\u001b[0m\u001b[1;33m)\u001b[0m\u001b[1;33m\u001b[0m\u001b[0m\n\u001b[0m\u001b[0;32m     14\u001b[0m         \u001b[1;32myield\u001b[0m \u001b[0mpickline\u001b[0m\u001b[1;33m\u001b[0m\u001b[0m\n\u001b[0;32m     15\u001b[0m \u001b[1;33m\u001b[0m\u001b[0m\n",
      "\u001b[1;32m/home/ec2-user/anaconda2/lib/python2.7/pickle.pyc\u001b[0m in \u001b[0;36mload\u001b[1;34m(file)\u001b[0m\n\u001b[0;32m   1382\u001b[0m \u001b[1;33m\u001b[0m\u001b[0m\n\u001b[0;32m   1383\u001b[0m \u001b[1;32mdef\u001b[0m \u001b[0mload\u001b[0m\u001b[1;33m(\u001b[0m\u001b[0mfile\u001b[0m\u001b[1;33m)\u001b[0m\u001b[1;33m:\u001b[0m\u001b[1;33m\u001b[0m\u001b[0m\n\u001b[1;32m-> 1384\u001b[1;33m     \u001b[1;32mreturn\u001b[0m \u001b[0mUnpickler\u001b[0m\u001b[1;33m(\u001b[0m\u001b[0mfile\u001b[0m\u001b[1;33m)\u001b[0m\u001b[1;33m.\u001b[0m\u001b[0mload\u001b[0m\u001b[1;33m(\u001b[0m\u001b[1;33m)\u001b[0m\u001b[1;33m\u001b[0m\u001b[0m\n\u001b[0m\u001b[0;32m   1385\u001b[0m \u001b[1;33m\u001b[0m\u001b[0m\n\u001b[0;32m   1386\u001b[0m \u001b[1;32mdef\u001b[0m \u001b[0mloads\u001b[0m\u001b[1;33m(\u001b[0m\u001b[0mstr\u001b[0m\u001b[1;33m)\u001b[0m\u001b[1;33m:\u001b[0m\u001b[1;33m\u001b[0m\u001b[0m\n",
      "\u001b[1;32m/home/ec2-user/anaconda2/lib/python2.7/pickle.pyc\u001b[0m in \u001b[0;36mload\u001b[1;34m(self)\u001b[0m\n\u001b[0;32m    862\u001b[0m             \u001b[1;32mwhile\u001b[0m \u001b[1;36m1\u001b[0m\u001b[1;33m:\u001b[0m\u001b[1;33m\u001b[0m\u001b[0m\n\u001b[0;32m    863\u001b[0m                 \u001b[0mkey\u001b[0m \u001b[1;33m=\u001b[0m \u001b[0mread\u001b[0m\u001b[1;33m(\u001b[0m\u001b[1;36m1\u001b[0m\u001b[1;33m)\u001b[0m\u001b[1;33m\u001b[0m\u001b[0m\n\u001b[1;32m--> 864\u001b[1;33m                 \u001b[0mdispatch\u001b[0m\u001b[1;33m[\u001b[0m\u001b[0mkey\u001b[0m\u001b[1;33m]\u001b[0m\u001b[1;33m(\u001b[0m\u001b[0mself\u001b[0m\u001b[1;33m)\u001b[0m\u001b[1;33m\u001b[0m\u001b[0m\n\u001b[0m\u001b[0;32m    865\u001b[0m         \u001b[1;32mexcept\u001b[0m \u001b[0m_Stop\u001b[0m\u001b[1;33m,\u001b[0m \u001b[0mstopinst\u001b[0m\u001b[1;33m:\u001b[0m\u001b[1;33m\u001b[0m\u001b[0m\n\u001b[0;32m    866\u001b[0m             \u001b[1;32mreturn\u001b[0m \u001b[0mstopinst\u001b[0m\u001b[1;33m.\u001b[0m\u001b[0mvalue\u001b[0m\u001b[1;33m\u001b[0m\u001b[0m\n",
      "\u001b[1;32m/home/ec2-user/anaconda2/lib/python2.7/pickle.pyc\u001b[0m in \u001b[0;36mload_eof\u001b[1;34m(self)\u001b[0m\n\u001b[0;32m    884\u001b[0m \u001b[1;33m\u001b[0m\u001b[0m\n\u001b[0;32m    885\u001b[0m     \u001b[1;32mdef\u001b[0m \u001b[0mload_eof\u001b[0m\u001b[1;33m(\u001b[0m\u001b[0mself\u001b[0m\u001b[1;33m)\u001b[0m\u001b[1;33m:\u001b[0m\u001b[1;33m\u001b[0m\u001b[0m\n\u001b[1;32m--> 886\u001b[1;33m         \u001b[1;32mraise\u001b[0m \u001b[0mEOFError\u001b[0m\u001b[1;33m\u001b[0m\u001b[0m\n\u001b[0m\u001b[0;32m    887\u001b[0m     \u001b[0mdispatch\u001b[0m\u001b[1;33m[\u001b[0m\u001b[1;34m''\u001b[0m\u001b[1;33m]\u001b[0m \u001b[1;33m=\u001b[0m \u001b[0mload_eof\u001b[0m\u001b[1;33m\u001b[0m\u001b[0m\n\u001b[0;32m    888\u001b[0m \u001b[1;33m\u001b[0m\u001b[0m\n",
      "\u001b[1;31mEOFError\u001b[0m: "
     ]
    }
   ],
   "source": [
    "\"\"\"\n",
    "Let us now read the contents of 'pickle.txt'.\n",
    "Do the variables retain their types?\n",
    "\"\"\"\n",
    "\n",
    "def pickout(fileobj):\n",
    "    print \"what's this file object : \" \n",
    "    print fileobj\n",
    "    print \"it's type : \"\n",
    "    print type(fileobj)\n",
    "    print \"==\" * 5 + \"==\" * 5\n",
    "    while True:\n",
    "        pickline = pickle.load(fileobj)\n",
    "        yield pickline\n",
    "    \n",
    "with open('pickle.txt', 'rb') as f:\n",
    "    for info in pickout(f):\n",
    "        print info,\n",
    "        print type(info)"
   ]
  },
  {
   "cell_type": "markdown",
   "metadata": {},
   "source": [
    "### Short notes on the above code output\n",
    "\n",
    "#### We are passing the filehandle to the 'pickout' function.\n",
    "#### While in this function, we check the argument passed to it and it's type.\n",
    "\n",
    "[Stackoverflow thread on reading file contents (written using pickle) in a loop] (http://stackoverflow.com/questions/18675863/load-data-from-python-pickle-file-in-a-loop)"
   ]
  },
  {
   "cell_type": "code",
   "execution_count": 33,
   "metadata": {
    "collapsed": false
   },
   "outputs": [
    {
     "name": "stdout",
     "output_type": "stream",
     "text": [
      "what's this file object : \n",
      "<open file 'pickle.txt', mode 'rb' at 0x7fe56dd3cc00>\n",
      "it's type : \n",
      "<type 'file'>\n",
      "====================\n",
      "1143 <type 'int'>\n",
      "['AECS', 'LAYOUT', 'KUNDALAHALLI'] <type 'list'>\n",
      "58.3 <type 'float'>\n",
      "('Bangalore', 560037) <type 'tuple'>\n"
     ]
    }
   ],
   "source": [
    "\"\"\"\n",
    "Example on how to read contents of 'pickle.txt'.\n",
    "End of file condition handled.\n",
    "\"\"\"\n",
    "\n",
    "def pickout(fileobj):\n",
    "    print \"what's this file object : \" \n",
    "    print fileobj\n",
    "    print \"it's type : \"\n",
    "    print type(fileobj)\n",
    "    print \"==\" * 5 + \"==\" * 5\n",
    "    try:\n",
    "        while True:\n",
    "            pickline = pickle.load(fileobj)\n",
    "            yield pickline\n",
    "    except EOFError:\n",
    "        pass\n",
    "    \n",
    "with open('pickle.txt', 'rb') as f:\n",
    "    for info in pickout(f):\n",
    "        print info,\n",
    "        print type(info)"
   ]
  },
  {
   "cell_type": "code",
   "execution_count": null,
   "metadata": {
    "collapsed": true
   },
   "outputs": [],
   "source": []
  }
 ],
 "metadata": {
  "kernelspec": {
   "display_name": "Python 2",
   "language": "python",
   "name": "python2"
  },
  "language_info": {
   "codemirror_mode": {
    "name": "ipython",
    "version": 2
   },
   "file_extension": ".py",
   "mimetype": "text/x-python",
   "name": "python",
   "nbconvert_exporter": "python",
   "pygments_lexer": "ipython2",
   "version": "2.7.11"
  }
 },
 "nbformat": 4,
 "nbformat_minor": 0
}
