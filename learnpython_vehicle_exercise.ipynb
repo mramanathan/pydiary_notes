{
 "cells": [
  {
   "cell_type": "code",
   "execution_count": 28,
   "metadata": {
    "collapsed": false
   },
   "outputs": [
    {
     "name": "stdout",
     "output_type": "stream",
     "text": [
      "\n",
      "car1 object of the Vehicle class is,  \n",
      "    Vehicles prototype to describe the cars.\n",
      "    Car name, it's price, and type i.e. van, convertible.\n",
      "    \n",
      "\n",
      "describe function of Vehicle class is,  \n",
      "        Returns construct of properties of the car.\n",
      "        \n",
      "Fer is a kind of red convertible car and it's worth is US $60000 \n",
      "Jump is a kind of blue van car and it's worth is US $10000 \n"
     ]
    }
   ],
   "source": [
    "class Vehicles(object):\n",
    "    \"\"\"\n",
    "    Vehicles prototype to describe the cars.\n",
    "    Car name, it's price, and type i.e. van, convertible.\n",
    "    \"\"\"\n",
    "    global kind \n",
    "    \n",
    "    kind = \"car\"\n",
    "    \n",
    "    def __init__(self, name, nature, worth):\n",
    "        self.name = name\n",
    "        self.nature = nature\n",
    "        self.worth = worth\n",
    "    \n",
    "    def describe(self):\n",
    "        \"\"\"\n",
    "        Returns construct of properties of the car.\n",
    "        \"\"\"\n",
    "        return \"%s is a kind of %s %s and it's worth is US $%-6d\" %(self.name, self.nature, kind, self.worth)\n",
    "\n",
    "car1 = Vehicles(\"Fer\", \"red convertible\", 60000)\n",
    "car2 = Vehicles(\"Jump\", \"blue van\", 10000)\n",
    "\n",
    "print \"\\ncar1 object of the Vehicle class is, \",\n",
    "print car1.__doc__\n",
    "\n",
    "print \"\\ndescribe function of Vehicle class is, \",\n",
    "print car1.describe.__doc__\n",
    "\n",
    "print car1.describe()\n",
    "print car2.describe()"
   ]
  }
 ],
 "metadata": {
  "kernelspec": {
   "display_name": "Python 2",
   "language": "python",
   "name": "python2"
  },
  "language_info": {
   "codemirror_mode": {
    "name": "ipython",
    "version": 2
   },
   "file_extension": ".py",
   "mimetype": "text/x-python",
   "name": "python",
   "nbconvert_exporter": "python",
   "pygments_lexer": "ipython2",
   "version": "2.7.10"
  }
 },
 "nbformat": 4,
 "nbformat_minor": 0
}
