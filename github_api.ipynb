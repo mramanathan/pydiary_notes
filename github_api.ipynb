{
 "cells": [
  {
   "cell_type": "code",
   "execution_count": 10,
   "metadata": {
    "collapsed": false
   },
   "outputs": [
    {
     "data": {
      "text/plain": [
       "200"
      ]
     },
     "execution_count": 10,
     "metadata": {},
     "output_type": "execute_result"
    }
   ],
   "source": [
    "import requests\n",
    "\n",
    "gitlabReq = requests.get('https://api.github.com/user', auth=('mramanathan', 'Rus1729Sw#'))\n",
    "\n",
    "gitlabReq.status_code"
   ]
  },
  {
   "cell_type": "code",
   "execution_count": 5,
   "metadata": {
    "collapsed": false
   },
   "outputs": [
    {
     "data": {
      "text/plain": [
       "u'{\"message\":\"Bad credentials\",\"documentation_url\":\"https://developer.github.com/v3\"}'"
      ]
     },
     "execution_count": 5,
     "metadata": {},
     "output_type": "execute_result"
    }
   ],
   "source": [
    "gitlabReq.text"
   ]
  },
  {
   "cell_type": "code",
   "execution_count": 7,
   "metadata": {
    "collapsed": false
   },
   "outputs": [
    {
     "data": {
      "text/plain": [
       "{u'documentation_url': u'https://developer.github.com/v3',\n",
       " u'message': u'Bad credentials'}"
      ]
     },
     "execution_count": 7,
     "metadata": {},
     "output_type": "execute_result"
    }
   ],
   "source": [
    "gitlabReq.json()"
   ]
  },
  {
   "cell_type": "code",
   "execution_count": 11,
   "metadata": {
    "collapsed": false
   },
   "outputs": [
    {
     "data": {
      "text/plain": [
       "u'{\"login\":\"mramanathan\",\"id\":4449217,\"avatar_url\":\"https://avatars.githubusercontent.com/u/4449217?v=3\",\"gravatar_id\":\"\",\"url\":\"https://api.github.com/users/mramanathan\",\"html_url\":\"https://github.com/mramanathan\",\"followers_url\":\"https://api.github.com/users/mramanathan/followers\",\"following_url\":\"https://api.github.com/users/mramanathan/following{/other_user}\",\"gists_url\":\"https://api.github.com/users/mramanathan/gists{/gist_id}\",\"starred_url\":\"https://api.github.com/users/mramanathan/starred{/owner}{/repo}\",\"subscriptions_url\":\"https://api.github.com/users/mramanathan/subscriptions\",\"organizations_url\":\"https://api.github.com/users/mramanathan/orgs\",\"repos_url\":\"https://api.github.com/users/mramanathan/repos\",\"events_url\":\"https://api.github.com/users/mramanathan/events{/privacy}\",\"received_events_url\":\"https://api.github.com/users/mramanathan/received_events\",\"type\":\"User\",\"site_admin\":false,\"name\":\"Ram\",\"company\":null,\"blog\":null,\"location\":\"India\",\"email\":\"rus.cahimb@gmail.com\",\"hireable\":true,\"bio\":null,\"public_repos\":6,\"public_gists\":0,\"followers\":0,\"following\":0,\"created_at\":\"2013-05-16T15:58:34Z\",\"updated_at\":\"2016-05-27T02:38:48Z\",\"private_gists\":0,\"total_private_repos\":0,\"owned_private_repos\":0,\"disk_usage\":325,\"collaborators\":0,\"plan\":{\"name\":\"free\",\"space\":976562499,\"collaborators\":0,\"private_repos\":0}}'"
      ]
     },
     "execution_count": 11,
     "metadata": {},
     "output_type": "execute_result"
    }
   ],
   "source": [
    "gitlabReq.text"
   ]
  },
  {
   "cell_type": "code",
   "execution_count": 12,
   "metadata": {
    "collapsed": false
   },
   "outputs": [
    {
     "data": {
      "text/plain": [
       "{u'avatar_url': u'https://avatars.githubusercontent.com/u/4449217?v=3',\n",
       " u'bio': None,\n",
       " u'blog': None,\n",
       " u'collaborators': 0,\n",
       " u'company': None,\n",
       " u'created_at': u'2013-05-16T15:58:34Z',\n",
       " u'disk_usage': 325,\n",
       " u'email': u'rus.cahimb@gmail.com',\n",
       " u'events_url': u'https://api.github.com/users/mramanathan/events{/privacy}',\n",
       " u'followers': 0,\n",
       " u'followers_url': u'https://api.github.com/users/mramanathan/followers',\n",
       " u'following': 0,\n",
       " u'following_url': u'https://api.github.com/users/mramanathan/following{/other_user}',\n",
       " u'gists_url': u'https://api.github.com/users/mramanathan/gists{/gist_id}',\n",
       " u'gravatar_id': u'',\n",
       " u'hireable': True,\n",
       " u'html_url': u'https://github.com/mramanathan',\n",
       " u'id': 4449217,\n",
       " u'location': u'India',\n",
       " u'login': u'mramanathan',\n",
       " u'name': u'Ram',\n",
       " u'organizations_url': u'https://api.github.com/users/mramanathan/orgs',\n",
       " u'owned_private_repos': 0,\n",
       " u'plan': {u'collaborators': 0,\n",
       "  u'name': u'free',\n",
       "  u'private_repos': 0,\n",
       "  u'space': 976562499},\n",
       " u'private_gists': 0,\n",
       " u'public_gists': 0,\n",
       " u'public_repos': 6,\n",
       " u'received_events_url': u'https://api.github.com/users/mramanathan/received_events',\n",
       " u'repos_url': u'https://api.github.com/users/mramanathan/repos',\n",
       " u'site_admin': False,\n",
       " u'starred_url': u'https://api.github.com/users/mramanathan/starred{/owner}{/repo}',\n",
       " u'subscriptions_url': u'https://api.github.com/users/mramanathan/subscriptions',\n",
       " u'total_private_repos': 0,\n",
       " u'type': u'User',\n",
       " u'updated_at': u'2016-05-27T02:38:48Z',\n",
       " u'url': u'https://api.github.com/users/mramanathan'}"
      ]
     },
     "execution_count": 12,
     "metadata": {},
     "output_type": "execute_result"
    }
   ],
   "source": [
    "gitlabReq.json()"
   ]
  }
 ],
 "metadata": {
  "kernelspec": {
   "display_name": "Python 2",
   "language": "python",
   "name": "python2"
  },
  "language_info": {
   "codemirror_mode": {
    "name": "ipython",
    "version": 2
   },
   "file_extension": ".py",
   "mimetype": "text/x-python",
   "name": "python",
   "nbconvert_exporter": "python",
   "pygments_lexer": "ipython2",
   "version": "2.7.11"
  }
 },
 "nbformat": 4,
 "nbformat_minor": 0
}
